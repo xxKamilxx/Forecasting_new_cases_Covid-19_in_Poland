{
  "nbformat": 4,
  "nbformat_minor": 0,
  "metadata": {
    "colab": {
      "name": "Korona_lstm",
      "provenance": [],
      "collapsed_sections": [],
      "authorship_tag": "ABX9TyOcIAVoXSS1FoSVcykztsOA",
      "include_colab_link": true
    },
    "kernelspec": {
      "name": "python3",
      "display_name": "Python 3"
    }
  },
  "cells": [
    {
      "cell_type": "markdown",
      "metadata": {
        "id": "view-in-github",
        "colab_type": "text"
      },
      "source": [
        "<a href=\"https://colab.research.google.com/github/xxKamilxx/Forecasting_new_cases_Covid-19_in_Poland/blob/master/Korona_lstm.ipynb\" target=\"_parent\"><img src=\"https://colab.research.google.com/assets/colab-badge.svg\" alt=\"Open In Colab\"/></a>"
      ]
    },
    {
      "cell_type": "code",
      "metadata": {
        "id": "zvEqtsp6SNtx",
        "colab_type": "code",
        "colab": {}
      },
      "source": [
        "import numpy as np \n",
        "import pandas as pd \n",
        "import datetime\n",
        "import os\n",
        "from matplotlib import pyplot as plt"
      ],
      "execution_count": 0,
      "outputs": []
    },
    {
      "cell_type": "code",
      "metadata": {
        "id": "5tteUgf7U1ha",
        "colab_type": "code",
        "colab": {}
      },
      "source": [
        "raw_confirmed=pd.read_csv(\"https://raw.githubusercontent.com/CSSEGISandData/COVID-19/master/csse_covid_19_data/csse_covid_19_time_series/time_series_covid19_confirmed_global.csv\")\n",
        "raw_deaths=pd.read_csv(\"https://raw.githubusercontent.com/CSSEGISandData/COVID-19/master/csse_covid_19_data/csse_covid_19_time_series/time_series_covid19_deaths_global.csv\")\n",
        "raw_recovered=pd.read_csv(\"https://raw.githubusercontent.com/CSSEGISandData/COVID-19/master/csse_covid_19_data/csse_covid_19_time_series/time_series_covid19_recovered_global.csv\")\n",
        "\n",
        "\n",
        "raw_confirmed\n"
      ],
      "execution_count": 0,
      "outputs": []
    },
    {
      "cell_type": "code",
      "metadata": {
        "id": "1NUkXbDWbwh1",
        "colab_type": "code",
        "outputId": "48607773-5ac9-44d4-922c-57b99bc106c1",
        "colab": {
          "base_uri": "https://localhost:8080/",
          "height": 455
        }
      },
      "source": [
        "def cleandata(df_raw):\n",
        "    df_cleaned=df_raw.melt(id_vars=['Country/Region'],value_name='Cases',var_name='Date')\n",
        "    df_cleaned=df_cleaned.set_index(['Country/Region','Date'])\n",
        "    return df_cleaned \n",
        "ConfirmedCases=cleandata(raw_confirmed)\n",
        "Deaths=cleandata(raw_deaths)\n",
        "Recoveries=cleandata(raw_recovered) \n",
        "\n",
        "\n",
        "\n",
        "df=ConfirmedCases.loc['Poland']\n",
        "# df=df.set_index('Date')\n",
        "df"
      ],
      "execution_count": 0,
      "outputs": [
        {
          "output_type": "execute_result",
          "data": {
            "text/html": [
              "<div>\n",
              "<style scoped>\n",
              "    .dataframe tbody tr th:only-of-type {\n",
              "        vertical-align: middle;\n",
              "    }\n",
              "\n",
              "    .dataframe tbody tr th {\n",
              "        vertical-align: top;\n",
              "    }\n",
              "\n",
              "    .dataframe thead th {\n",
              "        text-align: right;\n",
              "    }\n",
              "</style>\n",
              "<table border=\"1\" class=\"dataframe\">\n",
              "  <thead>\n",
              "    <tr style=\"text-align: right;\">\n",
              "      <th></th>\n",
              "      <th>Cases</th>\n",
              "    </tr>\n",
              "    <tr>\n",
              "      <th>Date</th>\n",
              "      <th></th>\n",
              "    </tr>\n",
              "  </thead>\n",
              "  <tbody>\n",
              "    <tr>\n",
              "      <th>Province/State</th>\n",
              "      <td>NaN</td>\n",
              "    </tr>\n",
              "    <tr>\n",
              "      <th>Lat</th>\n",
              "      <td>51.9194</td>\n",
              "    </tr>\n",
              "    <tr>\n",
              "      <th>Long</th>\n",
              "      <td>19.1451</td>\n",
              "    </tr>\n",
              "    <tr>\n",
              "      <th>1/22/20</th>\n",
              "      <td>0</td>\n",
              "    </tr>\n",
              "    <tr>\n",
              "      <th>1/23/20</th>\n",
              "      <td>0</td>\n",
              "    </tr>\n",
              "    <tr>\n",
              "      <th>...</th>\n",
              "      <td>...</td>\n",
              "    </tr>\n",
              "    <tr>\n",
              "      <th>3/30/20</th>\n",
              "      <td>2055</td>\n",
              "    </tr>\n",
              "    <tr>\n",
              "      <th>3/31/20</th>\n",
              "      <td>2311</td>\n",
              "    </tr>\n",
              "    <tr>\n",
              "      <th>4/1/20</th>\n",
              "      <td>2554</td>\n",
              "    </tr>\n",
              "    <tr>\n",
              "      <th>4/2/20</th>\n",
              "      <td>2946</td>\n",
              "    </tr>\n",
              "    <tr>\n",
              "      <th>4/3/20</th>\n",
              "      <td>3383</td>\n",
              "    </tr>\n",
              "  </tbody>\n",
              "</table>\n",
              "<p>76 rows × 1 columns</p>\n",
              "</div>"
            ],
            "text/plain": [
              "                  Cases\n",
              "Date                   \n",
              "Province/State      NaN\n",
              "Lat             51.9194\n",
              "Long            19.1451\n",
              "1/22/20               0\n",
              "1/23/20               0\n",
              "...                 ...\n",
              "3/30/20            2055\n",
              "3/31/20            2311\n",
              "4/1/20             2554\n",
              "4/2/20             2946\n",
              "4/3/20             3383\n",
              "\n",
              "[76 rows x 1 columns]"
            ]
          },
          "metadata": {
            "tags": []
          },
          "execution_count": 5
        }
      ]
    },
    {
      "cell_type": "code",
      "metadata": {
        "id": "L49gK9cDLHls",
        "colab_type": "code",
        "colab": {}
      },
      "source": [
        "df=df[3:]"
      ],
      "execution_count": 0,
      "outputs": []
    },
    {
      "cell_type": "code",
      "metadata": {
        "id": "-bdI83z6SOrn",
        "colab_type": "code",
        "outputId": "e6277427-46b6-4425-fbb4-8cb317807b3a",
        "colab": {
          "base_uri": "https://localhost:8080/",
          "height": 455
        }
      },
      "source": [
        "df"
      ],
      "execution_count": 0,
      "outputs": [
        {
          "output_type": "execute_result",
          "data": {
            "text/html": [
              "<div>\n",
              "<style scoped>\n",
              "    .dataframe tbody tr th:only-of-type {\n",
              "        vertical-align: middle;\n",
              "    }\n",
              "\n",
              "    .dataframe tbody tr th {\n",
              "        vertical-align: top;\n",
              "    }\n",
              "\n",
              "    .dataframe thead th {\n",
              "        text-align: right;\n",
              "    }\n",
              "</style>\n",
              "<table border=\"1\" class=\"dataframe\">\n",
              "  <thead>\n",
              "    <tr style=\"text-align: right;\">\n",
              "      <th></th>\n",
              "      <th>Cases</th>\n",
              "    </tr>\n",
              "    <tr>\n",
              "      <th>Date</th>\n",
              "      <th></th>\n",
              "    </tr>\n",
              "  </thead>\n",
              "  <tbody>\n",
              "    <tr>\n",
              "      <th>1/22/20</th>\n",
              "      <td>0</td>\n",
              "    </tr>\n",
              "    <tr>\n",
              "      <th>1/23/20</th>\n",
              "      <td>0</td>\n",
              "    </tr>\n",
              "    <tr>\n",
              "      <th>1/24/20</th>\n",
              "      <td>0</td>\n",
              "    </tr>\n",
              "    <tr>\n",
              "      <th>1/25/20</th>\n",
              "      <td>0</td>\n",
              "    </tr>\n",
              "    <tr>\n",
              "      <th>1/26/20</th>\n",
              "      <td>0</td>\n",
              "    </tr>\n",
              "    <tr>\n",
              "      <th>...</th>\n",
              "      <td>...</td>\n",
              "    </tr>\n",
              "    <tr>\n",
              "      <th>3/30/20</th>\n",
              "      <td>2055</td>\n",
              "    </tr>\n",
              "    <tr>\n",
              "      <th>3/31/20</th>\n",
              "      <td>2311</td>\n",
              "    </tr>\n",
              "    <tr>\n",
              "      <th>4/1/20</th>\n",
              "      <td>2554</td>\n",
              "    </tr>\n",
              "    <tr>\n",
              "      <th>4/2/20</th>\n",
              "      <td>2946</td>\n",
              "    </tr>\n",
              "    <tr>\n",
              "      <th>4/3/20</th>\n",
              "      <td>3383</td>\n",
              "    </tr>\n",
              "  </tbody>\n",
              "</table>\n",
              "<p>73 rows × 1 columns</p>\n",
              "</div>"
            ],
            "text/plain": [
              "        Cases\n",
              "Date         \n",
              "1/22/20     0\n",
              "1/23/20     0\n",
              "1/24/20     0\n",
              "1/25/20     0\n",
              "1/26/20     0\n",
              "...       ...\n",
              "3/30/20  2055\n",
              "3/31/20  2311\n",
              "4/1/20   2554\n",
              "4/2/20   2946\n",
              "4/3/20   3383\n",
              "\n",
              "[73 rows x 1 columns]"
            ]
          },
          "metadata": {
            "tags": []
          },
          "execution_count": 7
        }
      ]
    },
    {
      "cell_type": "code",
      "metadata": {
        "id": "NvqdZ_FAEnbZ",
        "colab_type": "code",
        "colab": {}
      },
      "source": [
        "df.plot(y='Cases',figsize=(12,8))"
      ],
      "execution_count": 0,
      "outputs": []
    },
    {
      "cell_type": "code",
      "metadata": {
        "id": "kzWcmJCjG-ty",
        "colab_type": "code",
        "outputId": "e58fd2fd-71aa-4491-919c-fd6b05280d7c",
        "colab": {
          "base_uri": "https://localhost:8080/",
          "height": 55
        }
      },
      "source": [
        "data=df[\"Cases\"].tail(40)\n",
        "data=data.values.tolist()\n",
        "print(data)"
      ],
      "execution_count": 0,
      "outputs": [
        {
          "output_type": "stream",
          "text": [
            "[0, 0, 0, 0, 0, 0, 0, 0, 0, 1, 1, 5, 5, 11, 16, 22, 31, 49, 68, 103, 119, 177, 238, 251, 355, 425, 536, 634, 749, 901, 1051, 1221, 1389, 1638, 1862, 2055, 2311, 2554, 2946, 3383]\n"
          ],
          "name": "stdout"
        }
      ]
    },
    {
      "cell_type": "code",
      "metadata": {
        "id": "3CM4Z05I6fSx",
        "colab_type": "code",
        "outputId": "6a4da5a2-1587-487e-a811-138c6a657e4a",
        "colab": {
          "base_uri": "https://localhost:8080/",
          "height": 35
        }
      },
      "source": [
        "import datetime\n",
        "\n",
        "x = datetime.date(2018, 6, 1)\n",
        "\n",
        "print(x.strftime(\"%x\")) "
      ],
      "execution_count": 0,
      "outputs": [
        {
          "output_type": "stream",
          "text": [
            "06/01/18\n"
          ],
          "name": "stdout"
        }
      ]
    },
    {
      "cell_type": "code",
      "metadata": {
        "id": "E-JqpiZvNgRQ",
        "colab_type": "code",
        "colab": {}
      },
      "source": [
        "\n",
        "import numpy as np\n",
        "import matplotlib.pyplot as plt\n",
        "import pandas\n",
        "import math\n",
        "from tensorflow.python.keras.models import Sequential\n",
        "from tensorflow.python.keras.layers import Dense\n",
        "from tensorflow.python.keras.layers import LSTM\n",
        "from sklearn.preprocessing import MinMaxScaler\n",
        "from sklearn.metrics import mean_squared_error"
      ],
      "execution_count": 0,
      "outputs": []
    },
    {
      "cell_type": "code",
      "metadata": {
        "id": "B93L3GOlElz5",
        "colab_type": "code",
        "colab": {}
      },
      "source": [
        "import numpy as np\n",
        "import pandas as pd\n",
        "import matplotlib.pyplot as plt\n",
        "%matplotlib inline\n",
        "from statsmodels.tools.eval_measures import rmse\n",
        "from sklearn.preprocessing import MinMaxScaler\n",
        "from tensorflow.python.keras.preprocessing.sequence import TimeseriesGenerator\n",
        "from tensorflow.python.keras.models import Sequential\n",
        "from tensorflow.python.keras.layers import Dense\n",
        "from tensorflow.python.keras.layers import LSTM\n",
        "from tensorflow.python.keras.layers import Dropout\n",
        "import warnings"
      ],
      "execution_count": 0,
      "outputs": []
    },
    {
      "cell_type": "code",
      "metadata": {
        "id": "pmPxgKwzNglz",
        "colab_type": "code",
        "colab": {}
      },
      "source": [
        "np.random.seed(7)"
      ],
      "execution_count": 0,
      "outputs": []
    },
    {
      "cell_type": "code",
      "metadata": {
        "id": "gGjU0Z9GJ_IO",
        "colab_type": "code",
        "colab": {}
      },
      "source": [
        "df=df.tail(40)"
      ],
      "execution_count": 0,
      "outputs": []
    },
    {
      "cell_type": "code",
      "metadata": {
        "id": "n5XQwtExDbdw",
        "colab_type": "code",
        "colab": {}
      },
      "source": [
        "train,test=df[:-10],df[-10:]"
      ],
      "execution_count": 0,
      "outputs": []
    },
    {
      "cell_type": "code",
      "metadata": {
        "id": "L4Sl5H0MJkzu",
        "colab_type": "code",
        "outputId": "8a69d61c-d461-4425-f28e-748e5f2c32a4",
        "colab": {
          "base_uri": "https://localhost:8080/",
          "height": 35
        }
      },
      "source": [
        "len(train)"
      ],
      "execution_count": 0,
      "outputs": [
        {
          "output_type": "execute_result",
          "data": {
            "text/plain": [
              "30"
            ]
          },
          "metadata": {
            "tags": []
          },
          "execution_count": 126
        }
      ]
    },
    {
      "cell_type": "code",
      "metadata": {
        "id": "pu_Pp7RGD8wu",
        "colab_type": "code",
        "colab": {}
      },
      "source": [
        "scaler=MinMaxScaler(feature_range=(0,1))\n",
        "scaler.fit(train)\n",
        "train=scaler.transform(train)\n",
        "test=scaler.transform(test)\n"
      ],
      "execution_count": 0,
      "outputs": []
    },
    {
      "cell_type": "code",
      "metadata": {
        "id": "PFo89ARBESnE",
        "colab_type": "code",
        "colab": {}
      },
      "source": [
        "n_input=10\n",
        "n_f=1\n",
        "generator=TimeseriesGenerator(train,train,length=10,batch_size=1)"
      ],
      "execution_count": 0,
      "outputs": []
    },
    {
      "cell_type": "code",
      "metadata": {
        "id": "jKhwzpOIEyRg",
        "colab_type": "code",
        "colab": {}
      },
      "source": [
        "model=Sequential()\n",
        "model.add(LSTM(200,activation='relu',input_shape=(10,1)))\n",
        "model.add(Dropout(0.15))\n",
        "model.add(Dense(1))\n",
        "model.compile(optimizer='adam',loss='mse')\n",
        "model.fit_generator(generator,epochs=100)"
      ],
      "execution_count": 0,
      "outputs": []
    },
    {
      "cell_type": "code",
      "metadata": {
        "id": "6lgRpN2MESte",
        "colab_type": "code",
        "colab": {}
      },
      "source": [
        "preds=[]\n",
        "batch=train[-n_input:].reshape((1,n_input,n_f))\n"
      ],
      "execution_count": 0,
      "outputs": []
    },
    {
      "cell_type": "code",
      "metadata": {
        "id": "XOxbgkihESrI",
        "colab_type": "code",
        "colab": {}
      },
      "source": [
        "for i in range(n_input):   \n",
        "    preds.append(model.predict(batch)[0]) \n",
        "    batch = np.append(batch[:,1:,:],[[preds[i]]],axis=1)"
      ],
      "execution_count": 0,
      "outputs": []
    },
    {
      "cell_type": "code",
      "metadata": {
        "id": "bGSenyUKOWcE",
        "colab_type": "code",
        "colab": {}
      },
      "source": [
        "df_pred=pd.DataFrame(scaler.inverse_transform(preds),index=df[-n_input:].index,columns=['Prediction'])"
      ],
      "execution_count": 0,
      "outputs": []
    },
    {
      "cell_type": "code",
      "metadata": {
        "id": "Nc2EcmgdPZy7",
        "colab_type": "code",
        "colab": {}
      },
      "source": [
        "df_test=pd.concat([df,df_pred],axis=1)"
      ],
      "execution_count": 0,
      "outputs": []
    },
    {
      "cell_type": "code",
      "metadata": {
        "id": "_IRJXpkwPnPY",
        "colab_type": "code",
        "outputId": "6c9916eb-e870-4886-806d-c5fba9242293",
        "colab": {
          "base_uri": "https://localhost:8080/",
          "height": 592
        }
      },
      "source": [
        "plt.figure(figsize=(50,20))\n",
        "plt.plot(df_test.index,df_test['Cases'])\n",
        "plt.plot(df_test.index, df_test['Prediction'], color='r')\n",
        "plt.legend(loc='best', fontsize='xx-large')\n",
        "plt.xticks(fontsize=18)\n",
        "plt.yticks(fontsize=16)\n",
        "plt.show()"
      ],
      "execution_count": 0,
      "outputs": [
        {
          "output_type": "stream",
          "text": [
            "No handles with labels found to put in legend.\n"
          ],
          "name": "stderr"
        },
        {
          "output_type": "display_data",
          "data": {
            "image/png": "[encoded data removed]",
            "text/plain": [
              "<Figure size 3600x1440 with 1 Axes>"
            ]
          },
          "metadata": {
            "tags": []
          }
        }
      ]
    },
    {
      "cell_type": "code",
      "metadata": {
        "id": "StSHw1RITPru",
        "colab_type": "code",
        "colab": {}
      },
      "source": [
        "train=df"
      ],
      "execution_count": 0,
      "outputs": []
    },
    {
      "cell_type": "code",
      "metadata": {
        "id": "ucNNsuvOTP45",
        "colab_type": "code",
        "colab": {}
      },
      "source": [
        "scaler.fit(train)\n",
        "train=scaler.transform(train)"
      ],
      "execution_count": 0,
      "outputs": []
    },
    {
      "cell_type": "code",
      "metadata": {
        "id": "RGRSL6bfmLVi",
        "colab_type": "code",
        "outputId": "b00ca0b8-eb84-47b7-aae0-f68af3cff151",
        "colab": {
          "base_uri": "https://localhost:8080/",
          "height": 744
        }
      },
      "source": [
        "train"
      ],
      "execution_count": 0,
      "outputs": [
        {
          "output_type": "execute_result",
          "data": {
            "text/plain": [
              "array([[0.00000000e+00],\n",
              "       [0.00000000e+00],\n",
              "       [0.00000000e+00],\n",
              "       [0.00000000e+00],\n",
              "       [0.00000000e+00],\n",
              "       [0.00000000e+00],\n",
              "       [0.00000000e+00],\n",
              "       [0.00000000e+00],\n",
              "       [0.00000000e+00],\n",
              "       [2.95595625e-04],\n",
              "       [2.95595625e-04],\n",
              "       [1.47797813e-03],\n",
              "       [1.47797813e-03],\n",
              "       [3.25155188e-03],\n",
              "       [4.72953000e-03],\n",
              "       [6.50310375e-03],\n",
              "       [9.16346438e-03],\n",
              "       [1.44841856e-02],\n",
              "       [2.01005025e-02],\n",
              "       [3.04463494e-02],\n",
              "       [3.51758794e-02],\n",
              "       [5.23204257e-02],\n",
              "       [7.03517588e-02],\n",
              "       [7.41945019e-02],\n",
              "       [1.04936447e-01],\n",
              "       [1.25628141e-01],\n",
              "       [1.58439255e-01],\n",
              "       [1.87407626e-01],\n",
              "       [2.21401123e-01],\n",
              "       [2.66331658e-01],\n",
              "       [3.10671002e-01],\n",
              "       [3.60922258e-01],\n",
              "       [4.10582323e-01],\n",
              "       [4.84185634e-01],\n",
              "       [5.50399054e-01],\n",
              "       [6.07449010e-01],\n",
              "       [6.83121490e-01],\n",
              "       [7.54951227e-01],\n",
              "       [8.70824712e-01],\n",
              "       [1.00000000e+00]])"
            ]
          },
          "metadata": {
            "tags": []
          },
          "execution_count": 256
        }
      ]
    },
    {
      "cell_type": "code",
      "metadata": {
        "id": "dH-gYvR_TeBJ",
        "colab_type": "code",
        "outputId": "b29b390d-f301-454e-c860-382d60c81121",
        "colab": {
          "base_uri": "https://localhost:8080/",
          "height": 35
        }
      },
      "source": [
        "ninputs=10\n",
        "f=1\n",
        "generator2=TimeseriesGenerator(train,train,length = ninputs, batch_size=2)"
      ],
      "execution_count": 0,
      "outputs": [
        {
          "output_type": "stream",
          "text": [
            "ERROR! Session/line number was not unique in database. History logging moved to new session 61\n"
          ],
          "name": "stdout"
        }
      ]
    },
    {
      "cell_type": "code",
      "metadata": {
        "id": "Uuqv-V0JTeIR",
        "colab_type": "code",
        "colab": {}
      },
      "source": [
        "model.fit_generator(generator,epochs=100)"
      ],
      "execution_count": 0,
      "outputs": []
    },
    {
      "cell_type": "code",
      "metadata": {
        "id": "oZfNyf8FTeNA",
        "colab_type": "code",
        "colab": {}
      },
      "source": [
        "pred=[]\n",
        "batch=train[-10:].reshape((1,ninputs,f))"
      ],
      "execution_count": 0,
      "outputs": []
    },
    {
      "cell_type": "code",
      "metadata": {
        "id": "32Qp0iZQUlY3",
        "colab_type": "code",
        "outputId": "b6ae8a29-e732-492d-df3f-c79fbf256f73",
        "colab": {
          "base_uri": "https://localhost:8080/",
          "height": 35
        }
      },
      "source": [
        "len(batch)"
      ],
      "execution_count": 0,
      "outputs": [
        {
          "output_type": "execute_result",
          "data": {
            "text/plain": [
              "1"
            ]
          },
          "metadata": {
            "tags": []
          },
          "execution_count": 219
        }
      ]
    },
    {
      "cell_type": "code",
      "metadata": {
        "id": "qEyqdMTMUdQU",
        "colab_type": "code",
        "colab": {}
      },
      "source": [
        "for i in range(10):\n",
        "  pred.append(model.predict(batch)[0])\n",
        "  batch=np.append(batch[:,1:,:],[[pred[i]]],axis=1)"
      ],
      "execution_count": 0,
      "outputs": []
    },
    {
      "cell_type": "code",
      "metadata": {
        "id": "QuFyEbsJUdf8",
        "colab_type": "code",
        "colab": {}
      },
      "source": [
        "import datetime\n",
        "from pandas.tseries.offsets import DateOffset\n",
        "from datetime import timedelta\n",
        "# x = datetime.date(2018, 6, 1)\n",
        "# x=x+ timedelta(days=1) \n",
        "# print(x.strftime(\"%x\")) \n",
        "new_date=[]\n",
        "x=datetime.datetime.strptime(df.index[-1], \"%x\").date()\n",
        "for i in range(11):\n",
        "  x=x+timedelta(days=1)\n",
        "  # print(x.strftime(\"%x\")) \n",
        "  new_date.append(str(x))"
      ],
      "execution_count": 0,
      "outputs": []
    },
    {
      "cell_type": "code",
      "metadata": {
        "id": "x9FyAu4LhZ_t",
        "colab_type": "code",
        "outputId": "babcff43-f0fe-4afe-9c9a-20c2464eebf2",
        "colab": {
          "base_uri": "https://localhost:8080/",
          "height": 217
        }
      },
      "source": [
        "new_date"
      ],
      "execution_count": 0,
      "outputs": [
        {
          "output_type": "execute_result",
          "data": {
            "text/plain": [
              "['2020-04-04',\n",
              " '2020-04-05',\n",
              " '2020-04-06',\n",
              " '2020-04-07',\n",
              " '2020-04-08',\n",
              " '2020-04-09',\n",
              " '2020-04-10',\n",
              " '2020-04-11',\n",
              " '2020-04-12',\n",
              " '2020-04-13',\n",
              " '2020-04-14']"
            ]
          },
          "metadata": {
            "tags": []
          },
          "execution_count": 274
        }
      ]
    },
    {
      "cell_type": "code",
      "metadata": {
        "id": "SWDoMIp8eV64",
        "colab_type": "code",
        "colab": {}
      },
      "source": [
        "future_dates=pd.DataFrame(index=new_date[0:],columns=df.columns)"
      ],
      "execution_count": 0,
      "outputs": []
    },
    {
      "cell_type": "code",
      "metadata": {
        "id": "Q5jGoUIVnTlJ",
        "colab_type": "code",
        "outputId": "6fbe5079-326f-4c2e-bb10-0978ae4d838a",
        "colab": {
          "base_uri": "https://localhost:8080/",
          "height": 363
        }
      },
      "source": [
        "future_dates[-10:]"
      ],
      "execution_count": 0,
      "outputs": [
        {
          "output_type": "execute_result",
          "data": {
            "text/html": [
              "<div>\n",
              "<style scoped>\n",
              "    .dataframe tbody tr th:only-of-type {\n",
              "        vertical-align: middle;\n",
              "    }\n",
              "\n",
              "    .dataframe tbody tr th {\n",
              "        vertical-align: top;\n",
              "    }\n",
              "\n",
              "    .dataframe thead th {\n",
              "        text-align: right;\n",
              "    }\n",
              "</style>\n",
              "<table border=\"1\" class=\"dataframe\">\n",
              "  <thead>\n",
              "    <tr style=\"text-align: right;\">\n",
              "      <th></th>\n",
              "      <th>Cases</th>\n",
              "    </tr>\n",
              "  </thead>\n",
              "  <tbody>\n",
              "    <tr>\n",
              "      <th>2020-04-05</th>\n",
              "      <td>NaN</td>\n",
              "    </tr>\n",
              "    <tr>\n",
              "      <th>2020-04-06</th>\n",
              "      <td>NaN</td>\n",
              "    </tr>\n",
              "    <tr>\n",
              "      <th>2020-04-07</th>\n",
              "      <td>NaN</td>\n",
              "    </tr>\n",
              "    <tr>\n",
              "      <th>2020-04-08</th>\n",
              "      <td>NaN</td>\n",
              "    </tr>\n",
              "    <tr>\n",
              "      <th>2020-04-09</th>\n",
              "      <td>NaN</td>\n",
              "    </tr>\n",
              "    <tr>\n",
              "      <th>2020-04-10</th>\n",
              "      <td>NaN</td>\n",
              "    </tr>\n",
              "    <tr>\n",
              "      <th>2020-04-11</th>\n",
              "      <td>NaN</td>\n",
              "    </tr>\n",
              "    <tr>\n",
              "      <th>2020-04-12</th>\n",
              "      <td>NaN</td>\n",
              "    </tr>\n",
              "    <tr>\n",
              "      <th>2020-04-13</th>\n",
              "      <td>NaN</td>\n",
              "    </tr>\n",
              "    <tr>\n",
              "      <th>2020-04-14</th>\n",
              "      <td>NaN</td>\n",
              "    </tr>\n",
              "  </tbody>\n",
              "</table>\n",
              "</div>"
            ],
            "text/plain": [
              "           Cases\n",
              "2020-04-05   NaN\n",
              "2020-04-06   NaN\n",
              "2020-04-07   NaN\n",
              "2020-04-08   NaN\n",
              "2020-04-09   NaN\n",
              "2020-04-10   NaN\n",
              "2020-04-11   NaN\n",
              "2020-04-12   NaN\n",
              "2020-04-13   NaN\n",
              "2020-04-14   NaN"
            ]
          },
          "metadata": {
            "tags": []
          },
          "execution_count": 276
        }
      ]
    },
    {
      "cell_type": "code",
      "metadata": {
        "id": "saJ3-aC6eokc",
        "colab_type": "code",
        "colab": {}
      },
      "source": [
        "df_preds=pd.DataFrame(scaler.inverse_transform(pred),index=future_dates[-10:].index,columns=['Prediction'])"
      ],
      "execution_count": 0,
      "outputs": []
    },
    {
      "cell_type": "code",
      "metadata": {
        "id": "GteYnU8tgTJ5",
        "colab_type": "code",
        "colab": {}
      },
      "source": [
        "df_proj = pd.concat([df,df_preds], axis=1)\n"
      ],
      "execution_count": 0,
      "outputs": []
    },
    {
      "cell_type": "code",
      "metadata": {
        "id": "p9X9L1WdhBX5",
        "colab_type": "code",
        "outputId": "afe9d4b4-1e09-446a-c3f4-d1db7989a33c",
        "colab": {
          "base_uri": "https://localhost:8080/",
          "height": 1000
        }
      },
      "source": [
        "df_proj"
      ],
      "execution_count": 0,
      "outputs": [
        {
          "output_type": "execute_result",
          "data": {
            "text/html": [
              "<div>\n",
              "<style scoped>\n",
              "    .dataframe tbody tr th:only-of-type {\n",
              "        vertical-align: middle;\n",
              "    }\n",
              "\n",
              "    .dataframe tbody tr th {\n",
              "        vertical-align: top;\n",
              "    }\n",
              "\n",
              "    .dataframe thead th {\n",
              "        text-align: right;\n",
              "    }\n",
              "</style>\n",
              "<table border=\"1\" class=\"dataframe\">\n",
              "  <thead>\n",
              "    <tr style=\"text-align: right;\">\n",
              "      <th></th>\n",
              "      <th>Cases</th>\n",
              "      <th>Prediction</th>\n",
              "    </tr>\n",
              "  </thead>\n",
              "  <tbody>\n",
              "    <tr>\n",
              "      <th>2/24/20</th>\n",
              "      <td>0</td>\n",
              "      <td>NaN</td>\n",
              "    </tr>\n",
              "    <tr>\n",
              "      <th>2/25/20</th>\n",
              "      <td>0</td>\n",
              "      <td>NaN</td>\n",
              "    </tr>\n",
              "    <tr>\n",
              "      <th>2/26/20</th>\n",
              "      <td>0</td>\n",
              "      <td>NaN</td>\n",
              "    </tr>\n",
              "    <tr>\n",
              "      <th>2/27/20</th>\n",
              "      <td>0</td>\n",
              "      <td>NaN</td>\n",
              "    </tr>\n",
              "    <tr>\n",
              "      <th>2/28/20</th>\n",
              "      <td>0</td>\n",
              "      <td>NaN</td>\n",
              "    </tr>\n",
              "    <tr>\n",
              "      <th>2/29/20</th>\n",
              "      <td>0</td>\n",
              "      <td>NaN</td>\n",
              "    </tr>\n",
              "    <tr>\n",
              "      <th>3/1/20</th>\n",
              "      <td>0</td>\n",
              "      <td>NaN</td>\n",
              "    </tr>\n",
              "    <tr>\n",
              "      <th>3/2/20</th>\n",
              "      <td>0</td>\n",
              "      <td>NaN</td>\n",
              "    </tr>\n",
              "    <tr>\n",
              "      <th>3/3/20</th>\n",
              "      <td>0</td>\n",
              "      <td>NaN</td>\n",
              "    </tr>\n",
              "    <tr>\n",
              "      <th>3/4/20</th>\n",
              "      <td>1</td>\n",
              "      <td>NaN</td>\n",
              "    </tr>\n",
              "    <tr>\n",
              "      <th>3/5/20</th>\n",
              "      <td>1</td>\n",
              "      <td>NaN</td>\n",
              "    </tr>\n",
              "    <tr>\n",
              "      <th>3/6/20</th>\n",
              "      <td>5</td>\n",
              "      <td>NaN</td>\n",
              "    </tr>\n",
              "    <tr>\n",
              "      <th>3/7/20</th>\n",
              "      <td>5</td>\n",
              "      <td>NaN</td>\n",
              "    </tr>\n",
              "    <tr>\n",
              "      <th>3/8/20</th>\n",
              "      <td>11</td>\n",
              "      <td>NaN</td>\n",
              "    </tr>\n",
              "    <tr>\n",
              "      <th>3/9/20</th>\n",
              "      <td>16</td>\n",
              "      <td>NaN</td>\n",
              "    </tr>\n",
              "    <tr>\n",
              "      <th>3/10/20</th>\n",
              "      <td>22</td>\n",
              "      <td>NaN</td>\n",
              "    </tr>\n",
              "    <tr>\n",
              "      <th>3/11/20</th>\n",
              "      <td>31</td>\n",
              "      <td>NaN</td>\n",
              "    </tr>\n",
              "    <tr>\n",
              "      <th>3/12/20</th>\n",
              "      <td>49</td>\n",
              "      <td>NaN</td>\n",
              "    </tr>\n",
              "    <tr>\n",
              "      <th>3/13/20</th>\n",
              "      <td>68</td>\n",
              "      <td>NaN</td>\n",
              "    </tr>\n",
              "    <tr>\n",
              "      <th>3/14/20</th>\n",
              "      <td>103</td>\n",
              "      <td>NaN</td>\n",
              "    </tr>\n",
              "    <tr>\n",
              "      <th>3/15/20</th>\n",
              "      <td>119</td>\n",
              "      <td>NaN</td>\n",
              "    </tr>\n",
              "    <tr>\n",
              "      <th>3/16/20</th>\n",
              "      <td>177</td>\n",
              "      <td>NaN</td>\n",
              "    </tr>\n",
              "    <tr>\n",
              "      <th>3/17/20</th>\n",
              "      <td>238</td>\n",
              "      <td>NaN</td>\n",
              "    </tr>\n",
              "    <tr>\n",
              "      <th>3/18/20</th>\n",
              "      <td>251</td>\n",
              "      <td>NaN</td>\n",
              "    </tr>\n",
              "    <tr>\n",
              "      <th>3/19/20</th>\n",
              "      <td>355</td>\n",
              "      <td>NaN</td>\n",
              "    </tr>\n",
              "    <tr>\n",
              "      <th>3/20/20</th>\n",
              "      <td>425</td>\n",
              "      <td>NaN</td>\n",
              "    </tr>\n",
              "    <tr>\n",
              "      <th>3/21/20</th>\n",
              "      <td>536</td>\n",
              "      <td>NaN</td>\n",
              "    </tr>\n",
              "    <tr>\n",
              "      <th>3/22/20</th>\n",
              "      <td>634</td>\n",
              "      <td>NaN</td>\n",
              "    </tr>\n",
              "    <tr>\n",
              "      <th>3/23/20</th>\n",
              "      <td>749</td>\n",
              "      <td>NaN</td>\n",
              "    </tr>\n",
              "    <tr>\n",
              "      <th>3/24/20</th>\n",
              "      <td>901</td>\n",
              "      <td>NaN</td>\n",
              "    </tr>\n",
              "    <tr>\n",
              "      <th>3/25/20</th>\n",
              "      <td>1051</td>\n",
              "      <td>NaN</td>\n",
              "    </tr>\n",
              "    <tr>\n",
              "      <th>3/26/20</th>\n",
              "      <td>1221</td>\n",
              "      <td>NaN</td>\n",
              "    </tr>\n",
              "    <tr>\n",
              "      <th>3/27/20</th>\n",
              "      <td>1389</td>\n",
              "      <td>NaN</td>\n",
              "    </tr>\n",
              "    <tr>\n",
              "      <th>3/28/20</th>\n",
              "      <td>1638</td>\n",
              "      <td>NaN</td>\n",
              "    </tr>\n",
              "    <tr>\n",
              "      <th>3/29/20</th>\n",
              "      <td>1862</td>\n",
              "      <td>NaN</td>\n",
              "    </tr>\n",
              "    <tr>\n",
              "      <th>3/30/20</th>\n",
              "      <td>2055</td>\n",
              "      <td>NaN</td>\n",
              "    </tr>\n",
              "    <tr>\n",
              "      <th>3/31/20</th>\n",
              "      <td>2311</td>\n",
              "      <td>NaN</td>\n",
              "    </tr>\n",
              "    <tr>\n",
              "      <th>4/1/20</th>\n",
              "      <td>2554</td>\n",
              "      <td>NaN</td>\n",
              "    </tr>\n",
              "    <tr>\n",
              "      <th>4/2/20</th>\n",
              "      <td>2946</td>\n",
              "      <td>NaN</td>\n",
              "    </tr>\n",
              "    <tr>\n",
              "      <th>4/3/20</th>\n",
              "      <td>3383</td>\n",
              "      <td>NaN</td>\n",
              "    </tr>\n",
              "    <tr>\n",
              "      <th>2020-04-05</th>\n",
              "      <td>NaN</td>\n",
              "      <td>4213.684481</td>\n",
              "    </tr>\n",
              "    <tr>\n",
              "      <th>2020-04-06</th>\n",
              "      <td>NaN</td>\n",
              "      <td>4866.210543</td>\n",
              "    </tr>\n",
              "    <tr>\n",
              "      <th>2020-04-07</th>\n",
              "      <td>NaN</td>\n",
              "      <td>5569.120213</td>\n",
              "    </tr>\n",
              "    <tr>\n",
              "      <th>2020-04-08</th>\n",
              "      <td>NaN</td>\n",
              "      <td>6307.281833</td>\n",
              "    </tr>\n",
              "    <tr>\n",
              "      <th>2020-04-09</th>\n",
              "      <td>NaN</td>\n",
              "      <td>7058.019494</td>\n",
              "    </tr>\n",
              "    <tr>\n",
              "      <th>2020-04-10</th>\n",
              "      <td>NaN</td>\n",
              "      <td>7799.936505</td>\n",
              "    </tr>\n",
              "    <tr>\n",
              "      <th>2020-04-11</th>\n",
              "      <td>NaN</td>\n",
              "      <td>8517.541075</td>\n",
              "    </tr>\n",
              "    <tr>\n",
              "      <th>2020-04-12</th>\n",
              "      <td>NaN</td>\n",
              "      <td>9202.809444</td>\n",
              "    </tr>\n",
              "    <tr>\n",
              "      <th>2020-04-13</th>\n",
              "      <td>NaN</td>\n",
              "      <td>9848.113075</td>\n",
              "    </tr>\n",
              "    <tr>\n",
              "      <th>2020-04-14</th>\n",
              "      <td>NaN</td>\n",
              "      <td>10448.621417</td>\n",
              "    </tr>\n",
              "  </tbody>\n",
              "</table>\n",
              "</div>"
            ],
            "text/plain": [
              "           Cases    Prediction\n",
              "2/24/20        0           NaN\n",
              "2/25/20        0           NaN\n",
              "2/26/20        0           NaN\n",
              "2/27/20        0           NaN\n",
              "2/28/20        0           NaN\n",
              "2/29/20        0           NaN\n",
              "3/1/20         0           NaN\n",
              "3/2/20         0           NaN\n",
              "3/3/20         0           NaN\n",
              "3/4/20         1           NaN\n",
              "3/5/20         1           NaN\n",
              "3/6/20         5           NaN\n",
              "3/7/20         5           NaN\n",
              "3/8/20        11           NaN\n",
              "3/9/20        16           NaN\n",
              "3/10/20       22           NaN\n",
              "3/11/20       31           NaN\n",
              "3/12/20       49           NaN\n",
              "3/13/20       68           NaN\n",
              "3/14/20      103           NaN\n",
              "3/15/20      119           NaN\n",
              "3/16/20      177           NaN\n",
              "3/17/20      238           NaN\n",
              "3/18/20      251           NaN\n",
              "3/19/20      355           NaN\n",
              "3/20/20      425           NaN\n",
              "3/21/20      536           NaN\n",
              "3/22/20      634           NaN\n",
              "3/23/20      749           NaN\n",
              "3/24/20      901           NaN\n",
              "3/25/20     1051           NaN\n",
              "3/26/20     1221           NaN\n",
              "3/27/20     1389           NaN\n",
              "3/28/20     1638           NaN\n",
              "3/29/20     1862           NaN\n",
              "3/30/20     2055           NaN\n",
              "3/31/20     2311           NaN\n",
              "4/1/20      2554           NaN\n",
              "4/2/20      2946           NaN\n",
              "4/3/20      3383           NaN\n",
              "2020-04-05   NaN   4213.684481\n",
              "2020-04-06   NaN   4866.210543\n",
              "2020-04-07   NaN   5569.120213\n",
              "2020-04-08   NaN   6307.281833\n",
              "2020-04-09   NaN   7058.019494\n",
              "2020-04-10   NaN   7799.936505\n",
              "2020-04-11   NaN   8517.541075\n",
              "2020-04-12   NaN   9202.809444\n",
              "2020-04-13   NaN   9848.113075\n",
              "2020-04-14   NaN  10448.621417"
            ]
          },
          "metadata": {
            "tags": []
          },
          "execution_count": 279
        }
      ]
    },
    {
      "cell_type": "code",
      "metadata": {
        "id": "pPIPj9KigdiS",
        "colab_type": "code",
        "outputId": "8257c43b-4d2c-4163-f009-bfed14146385",
        "colab": {
          "base_uri": "https://localhost:8080/",
          "height": 163
        }
      },
      "source": [
        "plt.figure(figsize=(60, 5))\n",
        "plt.plot(df_proj.index, df_proj['Cases'])\n",
        "plt.plot(df_proj.index, df_proj['Prediction'], color='r')\n",
        "plt.legend(loc='best', fontsize='xx-large')\n",
        "plt.xticks(fontsize=18)\n",
        "plt.yticks(fontsize=16)\n",
        "plt.show()\n"
      ],
      "execution_count": 0,
      "outputs": [
        {
          "output_type": "stream",
          "text": [
            "No handles with labels found to put in legend.\n"
          ],
          "name": "stderr"
        },
        {
          "output_type": "display_data",
          "data": {
            "image/png": "[encoded data removed]",
            "text/plain": [
              "<Figure size 4320x360 with 1 Axes>"
            ]
          },
          "metadata": {
            "tags": []
          }
        }
      ]
    }
  ]
}